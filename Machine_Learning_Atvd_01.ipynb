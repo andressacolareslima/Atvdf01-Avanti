{
  "nbformat": 4,
  "nbformat_minor": 0,
  "metadata": {
    "colab": {
      "provenance": []
    },
    "kernelspec": {
      "name": "python3",
      "display_name": "Python 3"
    },
    "language_info": {
      "name": "python"
    }
  },
  "cells": [
    {
      "cell_type": "markdown",
      "source": [
        "**1. Explique, com suas palavras, o que é machine learning?**\n",
        "\n"
      ],
      "metadata": {
        "id": "_Oy7iQgLzz5M"
      }
    },
    {
      "cell_type": "markdown",
      "source": [
        "Machine Learning, ou Aprendizagem de Máquina, é um módolo da área de Inteligência Artifical que utiliza ferramentas computacionais, como algoritmos, para treinamento de dataframes, imagens, entre outros exemplos. Foi desenvolvido a partir da ideia de que sistemas podem identificar padrões e aprender com dados para tomadas de decições, com uma interferência humana quase nula, que está presente apenas nas construções de algoritmos."
      ],
      "metadata": {
        "id": "OKzQ_VAw0Btt"
      }
    },
    {
      "cell_type": "markdown",
      "source": [
        "**2. Explique o conceito de conjunto de treinamento, conjunto de validação e\n",
        "conjunto de teste em machine learning.**"
      ],
      "metadata": {
        "id": "08k7RJd11Yed"
      }
    },
    {
      "cell_type": "markdown",
      "source": [
        "\n",
        "\n",
        "*   **Conjunto de treinamento:**\n",
        "Conjutos de treinamentos são defenidos como bases de dados utilizadas para o treinamento do algoritmo.\n",
        "*   **Conjunto de validação:**\n",
        "São utilizadas para fins de comparação de parametros e hiperparametros em diferentes modelos.\n",
        "*  **Conjuto de teste:**\n",
        "São dados que, por ventura, são ignorados incialmente no Conjunto de treinamento e na escolha de hiperparametros, mas são usufruidos posteriormente para comprovação que tal modelo utilizado de fato funciona.\n",
        "\n"
      ],
      "metadata": {
        "id": "snFeBrCE1iZH"
      }
    },
    {
      "cell_type": "markdown",
      "source": [
        "**3. Explique como você lidaria com dados ausentes em um conjunto de dados\n",
        "de treinamento.**"
      ],
      "metadata": {
        "id": "7NVEGY1m3L7E"
      }
    },
    {
      "cell_type": "markdown",
      "source": [
        "Dados ausentes são uma ocorrência corriqueira no que se refere à tratamento de dados. Dependendo da situação na qual tal episódio ocorra, é necessário analisar qual quadro se encaixaria melhor. Em algumas situações, os dados ausentes que não apresentam importâncias significativas para o dataframe podem ser excluídos, mas acredito que esta não é uma boa prática de tratamento de dados. Em outros, aplicar o conceito de média para substituir valores ausentes e/ou nulos, pode ser uma boa saída. Também pode-se estudar a possibilidade de aplicar a moda no tratamento de dados. Em suma, acredito que o contexto é a principal ferramenta para aplicar uma estrategia eficiente, para que não se perca dados valiosos, que terão usos posteriores."
      ],
      "metadata": {
        "id": "Lr0pzQYu3RDA"
      }
    },
    {
      "cell_type": "markdown",
      "source": [
        "**4. O que é uma matriz de confusão e como ela é usada para avaliar o\n",
        "desempenho de um modelo preditivo?**\n"
      ],
      "metadata": {
        "id": "eifjoPqE4oM5"
      }
    },
    {
      "cell_type": "markdown",
      "source": [
        "Uma matriz de confusão é uma ferramenta utilizada para avaliar o desempenho de um modelo de ML. Ela é aproveitada para calcular algumas métricas, como precisão, acurácia e recall, uma vez que ela mostra a previsão do modelo, com base em dados reais."
      ],
      "metadata": {
        "id": "wn1lMNSU4vwd"
      }
    },
    {
      "cell_type": "markdown",
      "source": [
        "**5.Em quais áreas (tais como construção civil, agricultura, saúde, manufatura,\n",
        "entre outras) você acha mais interessante aplicar algoritmos de machine\n",
        "learning?**"
      ],
      "metadata": {
        "id": "aa7NnBQd6HWK"
      }
    },
    {
      "cell_type": "markdown",
      "source": [
        "Acredito que a aréa da saúde, finanças e agricultura teriam um resultado promissor na utilização de machine learning.\n",
        "\n",
        "\n",
        "*   **Saúde:** Utilização para identificar diagnosticos mais precisos com radiografias e outras ferramentas de imagem.\n",
        "*   **Finanças:** Detectar fraudes, por meio de atividades suspeitas.\n",
        "*  **Agricultura:** Gerir de forma mais eficiente o consumo de água, pesticidas e fertilizantes com base em dados reais.\n",
        "\n"
      ],
      "metadata": {
        "id": "lkzT1u_a6Ljk"
      }
    }
  ]
}